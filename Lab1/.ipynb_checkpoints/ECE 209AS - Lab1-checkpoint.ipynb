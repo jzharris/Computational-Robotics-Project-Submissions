{
 "cells": [
  {
   "cell_type": "markdown",
   "metadata": {},
   "source": [
    "# Setup"
   ]
  },
  {
   "cell_type": "markdown",
   "metadata": {},
   "source": [
    "#### Imports"
   ]
  },
  {
   "cell_type": "code",
   "execution_count": 1,
   "metadata": {},
   "outputs": [],
   "source": [
    "import numpy as np\n",
    "import pandas as pd\n",
    "import sys\n",
    "from tqdm import tqdm\n",
    "import time\n",
    "import matplotlib.pyplot as plt\n",
    "from matplotlib.patches import Rectangle"
   ]
  },
  {
   "cell_type": "markdown",
   "metadata": {},
   "source": [
    "#### Parameters"
   ]
  },
  {
   "cell_type": "code",
   "execution_count": 2,
   "metadata": {},
   "outputs": [],
   "source": [
    "# set default figure size:\n",
    "plt.rcParams['figure.figsize'] = [15, 15]"
   ]
  },
  {
   "cell_type": "code",
   "execution_count": 3,
   "metadata": {},
   "outputs": [],
   "source": [
    "W = 8\n",
    "L = 8\n",
    "Direction = 12"
   ]
  },
  {
   "cell_type": "markdown",
   "metadata": {},
   "source": [
    "# Class Hierarchy"
   ]
  },
  {
   "cell_type": "markdown",
   "metadata": {},
   "source": [
    "### State\n",
    "\n",
    "The State class is instantiated for each possible state on the grid, represented by an (x,y) coordinate and a direction from 0 to 11."
   ]
  },
  {
   "cell_type": "code",
   "execution_count": 4,
   "metadata": {},
   "outputs": [],
   "source": [
    "class State:\n",
    "    \n",
    "    ## Constructor\n",
    "    \n",
    "    def __init__(self, x, y, direction):\n",
    "        self.x = x\n",
    "        self.y = y\n",
    "        self.direction = direction\n",
    "        \n",
    "    ## Basic Getters/Setters\n",
    "        \n",
    "    def getX(self):\n",
    "        return self.x\n",
    "    \n",
    "    def getY(self):\n",
    "        return self.y\n",
    "    \n",
    "    def getDirection(self):\n",
    "        return self.direction\n",
    "    \n",
    "    ## Formatted Getters/Setters (returns in different representation)\n",
    "    \n",
    "    def getCardinalDirection(self):\n",
    "        return {0:0, 1:0, 2:1, 3:1, 4:1, 5:2, 6:2, 7:2, 8:3, 9:3, 10:3, 11:0}[self.direction]\n",
    "    \n",
    "    def getDirectionDegrees(self):\n",
    "        return -self.direction*30 + 90 # 90 degrees is North\n",
    "    \n",
    "    def toTuple(self):\n",
    "        return (self.x, self.y, self.direction)"
   ]
  },
  {
   "cell_type": "markdown",
   "metadata": {},
   "source": [
    "### State Space\n",
    "The state space contains a list of possible state objects given a map's dimensions (L, W, and number of directions). This class also contains helper functions to calculate possible next states etc (which depend on the particular state space)."
   ]
  },
  {
   "cell_type": "code",
   "execution_count": 5,
   "metadata": {},
   "outputs": [],
   "source": [
    "class StateSpace:\n",
    "    \n",
    "    ## Constructor \n",
    "    \n",
    "    def __init__(self, L, W, num_directions):\n",
    "        self.L = L\n",
    "        self.W = W\n",
    "        self.num_directions = num_directions\n",
    "        self.states = [State(x, y, i) for x in range(L) for y in range(W) for i in range(num_directions)]\n",
    "        self.states_tuple = [(x, y, i) for x in range(L) for y in range(W) for i in range(12)]\n",
    "        \n",
    "    ## Basic Getters/Setters\n",
    "        \n",
    "    def getL(self):\n",
    "        return self.L\n",
    "    \n",
    "    def getW(self):\n",
    "        return self.W\n",
    "    \n",
    "    def getNumDirections(self):\n",
    "        return self.num_directions\n",
    "\n",
    "    def getNs(self):\n",
    "        return len(self.states)\n",
    "\n",
    "    def getStates(self):\n",
    "        # Returns State objects of all possible states\n",
    "        return self.states\n",
    "    \n",
    "    def getIndex(self, s):\n",
    "        return self.getStatesTuple().index(s)\n",
    "    \n",
    "    ## Formatted Getters/Setters (returns in different representation)\n",
    "    \n",
    "    def getStatesTuple(self):\n",
    "        # Returns all possible states, represented as tuples (x, y, direction)\n",
    "        return self.states_tuple\n",
    "    \n",
    "    ## Helper Functions\n",
    "                    \n",
    "    def moveAndRotate(self, state, action):\n",
    "        # Input: current state and an action to take\n",
    "        # Output: tuple representing state after action is taken\n",
    "        \n",
    "        movement = action.getMovement()\n",
    "        rotation = action.getRotation()\n",
    "        \n",
    "        if (movement == 0): # no movement, stay in the exact same state\n",
    "            return state.toTuple()\n",
    "        else: # up or down movement\n",
    "            caridinal_dir = state.getCardinalDirection() # 0, 1, 2, 3 as up, right, down, left\n",
    "            \n",
    "            # calculate the absolute dx and dy based on cardinal direction and relative movement\n",
    "            \n",
    "            dx = 1 if \\\n",
    "                    ((caridinal_dir==1 and movement==1) or (caridinal_dir==3 and movement==-1)) \\\n",
    "                else -1 if \\\n",
    "                    ((caridinal_dir==1 and movement==-1) or (caridinal_dir==3 and movement==1)) \\\n",
    "                else 0\n",
    "            dy = 1 if \\\n",
    "                    ((caridinal_dir==0 and movement==1) or (caridinal_dir==2 and movement==-1)) \\\n",
    "                else -1 if \\\n",
    "                    ((caridinal_dir==0 and movement==-1) or (caridinal_dir==2 and movement==1)) \\\n",
    "                else 0\n",
    "            \n",
    "            # Calculate x and y, and account for going out of the borders\n",
    "            \n",
    "            new_x = min(max(state.x+dx ,0), self.L-1)\n",
    "            new_y = min(max(state.y+dy, 0), self.W-1)\n",
    "            \n",
    "            return (new_x, new_y, (state.getDirection() + rotation)%12)\n",
    "\n",
    "    def getPossibleNextStates(self, pe, s, a):\n",
    "        # Input: error probability, current state, action taken\n",
    "        # Output: dictionary {(x, y, dir) tuple : probability} of all 3 possible outputs given randomness\n",
    "        \n",
    "        p_final_states = dict() # (x, y, dir) : probability\n",
    "        p_prerotation = {-1: pe, 0: 1-2*pe, 1: pe}\n",
    "        for prerotation in [-1, 0, 1]:\n",
    "            random_state = State(s.getX(), s.getY(), (s.getDirection()+prerotation)%12)\n",
    "            final_state = self.moveAndRotate(random_state, a)\n",
    "            p_final_states[final_state] = p_prerotation[prerotation]\n",
    "        return p_final_states\n",
    "        \n",
    "    def getPsa(self, pe, s, a, s_prime, verbose=False):\n",
    "        # Input: error probability, current state, action taken, and the next state s_prime\n",
    "        # Output: probability of being in s_prime, given the inputs\n",
    "        \n",
    "        possible_s_primes = self.getPossibleNextStates(pe, s, a) # dictionary of {state tuple: probability}\n",
    "\n",
    "        s_prime_tuple = s_prime.toTuple()\n",
    "        \n",
    "        if (verbose):\n",
    "            print(possible_s_primes)\n",
    "        \n",
    "        if (s_prime_tuple in possible_s_primes):\n",
    "            return possible_s_primes[s_prime_tuple]\n",
    "        else:\n",
    "            return 0\n",
    "    \n",
    "    def getNextState(self, pe, s, a):\n",
    "        # Input: error probability, current state, action\n",
    "        # Output: next state, evaluated using actual randomness (sampling from the distribution)\n",
    "        \n",
    "        possible_s_primes = self.getPossibleNextStates(pe, s, a)\n",
    "        state_tuples, probabilities = zip(*possible_s_primes.items())\n",
    "        s_prime = state_tuples[np.random.choice(list(range(len(state_tuples))), 1, p=probabilities)[0]]\n",
    "        return State(s_prime[0], s_prime[1], s_prime[2])\n",
    "    \n",
    "    def getEveryPossibleNextState(self, s):\n",
    "        # Input: current state s \n",
    "        # Output: dictionary of all possible next states {state tuple: action} without accounting for randomness;\n",
    "        #         note that we just look at all actions, and put the expected output state into the dictionary\n",
    "        \n",
    "        next_states = {}\n",
    "        for a in ActionSpace().actions:\n",
    "            next_state = self.moveAndRotate(s, a)\n",
    "            if next_state not in next_states.keys():\n",
    "                next_states[next_state] = a\n",
    "        return next_states\n",
    "    \n",
    "    def getSPrimes(self, pe, s):\n",
    "        # Input: current state\n",
    "        # Output: dictionary where keys are actions and for every action we have an ARRAY of s primes associated\n",
    "        \n",
    "        s_primes_by_action = {}\n",
    "        for a in ActionSpace().actions:\n",
    "            next_states = self.getPossibleNextStates(pe, s, a)\n",
    "            s_primes_by_action[a] = next_states\n",
    "        return s_primes_by_action\n",
    "            \n",
    "    \n",
    "    def getP(self, statespace, policy_matrix, pe):\n",
    "        # Input: policy matrix, error probability\n",
    "        # Output: matrix P (N_s x N_s), representing the probability of ending in state s_prime starting from s\n",
    "        \n",
    "        possible_states = statespace.getStatesTuple()\n",
    "        P = np.zeros((statespace.getNs(), statespace.getNs()))\n",
    "        for s in possible_states:\n",
    "            s_index = statespace.getIndex(s)\n",
    "            for possible_next_state, state_prob in statespace.getPossibleNextStates(pe, State(s[0], s[1], s[2]), policy_matrix[s_index]).items():\n",
    "                s_prime_index = statespace.getIndex(possible_next_state)\n",
    "                P[s_index][s_prime_index] = state_prob\n",
    "        return P"
   ]
  },
  {
   "cell_type": "markdown",
   "metadata": {},
   "source": [
    "### Action\n",
    "The Action class is instantiated for each possible action (forward, backwards, staying the same; rotation -1, 0, or 1)."
   ]
  },
  {
   "cell_type": "code",
   "execution_count": 6,
   "metadata": {},
   "outputs": [],
   "source": [
    "class Action:\n",
    "    \n",
    "    # Constructor\n",
    "    \n",
    "    def __init__(self, movement_dir, rotation_dir):\n",
    "        # movement_dir = [-1, 0, 1], rotation_dir = [-1, 0, 1]\n",
    "        self.movement_dir = movement_dir\n",
    "        self.rotation_dir = rotation_dir\n",
    "        \n",
    "    # Basic Getters/Setters\n",
    "    \n",
    "    def getMovement(self):\n",
    "        return self.movement_dir\n",
    "    def getRotation(self):\n",
    "        return self.rotation_dir\n",
    "    \n",
    "    # Formatted Getters/Setters\n",
    "    \n",
    "    def toTuple(self):\n",
    "        return (self.movement_dir, self.rotation_dir)"
   ]
  },
  {
   "cell_type": "markdown",
   "metadata": {},
   "source": [
    "### Action Space\n",
    "The action space contains an every possible action that can be performed."
   ]
  },
  {
   "cell_type": "code",
   "execution_count": 7,
   "metadata": {},
   "outputs": [],
   "source": [
    "class ActionSpace:\n",
    "    \n",
    "    # Constructor\n",
    "    \n",
    "    def __init__(self):\n",
    "        self.actions = [Action(movement_dir, rotation_dir) for movement_dir in [-1,1] for rotation_dir in [-1, 0, 1]] + [Action(0, 0)] \n",
    "        \n",
    "    # Getters/Setters\n",
    "        \n",
    "    def getActions(self):\n",
    "        return self.actions\n",
    "    def getNa(self):\n",
    "        return len(self.actions)"
   ]
  },
  {
   "cell_type": "markdown",
   "metadata": {},
   "source": [
    "### Reward\n",
    "The Reward class is used to represent and format the rewards for each state, and to pretty print it."
   ]
  },
  {
   "cell_type": "code",
   "execution_count": 8,
   "metadata": {},
   "outputs": [],
   "source": [
    "class Reward:\n",
    "    \n",
    "    # Constructor\n",
    "    \n",
    "    def __init__(self, W, L, goal_coords, is_yellow_func):\n",
    "        # grid dimensions W and L, goal coordinates (x,y), and function returning True if reward=-10 (yellow)\n",
    "        self.W = W\n",
    "        self.L = L\n",
    "        (self.goal_x, self.goal_y) = goal_coords\n",
    "        self.is_yellow_func = is_yellow_func\n",
    "        \n",
    "    # Getters/Setters\n",
    "    \n",
    "    def getW(self):\n",
    "        return self.W\n",
    "    \n",
    "    def getL(self):\n",
    "        return self.L\n",
    "    \n",
    "    def getGoalCoords(self):\n",
    "        return (self.goal_x, self.goal_y)\n",
    "        \n",
    "    # Helper Functions\n",
    "        \n",
    "    def getReward(self, s):\n",
    "        # Input: current state s\n",
    "        # Output: reward value for current state\n",
    "        if (s.getX() == self.L-1 or s.getX() == 0 or s.getY() == self.W-1 or s.getY()==0):\n",
    "            return -100\n",
    "        elif (self.is_yellow_func(s)):\n",
    "            return -10\n",
    "        elif (s.getX() == self.goal_x and s.getY() == self.goal_y):\n",
    "            return 1\n",
    "        else:\n",
    "            return 0\n",
    "        \n",
    "    def prettyPrint(self):\n",
    "        return pd.DataFrame([[self.getReward(State(x,y,0)) for x in range(self.L)] for y in range(self.W)])"
   ]
  },
  {
   "cell_type": "markdown",
   "metadata": {},
   "source": [
    "# Problem 1"
   ]
  },
  {
   "cell_type": "markdown",
   "metadata": {},
   "source": [
    "### 1(a). Create (in code) your state space S = {s}. What is the size of the state space NS?"
   ]
  },
  {
   "cell_type": "markdown",
   "metadata": {},
   "source": [
    "The state space is defined at the top of the document, in the \"Classes\" section; it is based on the variables L (length), W (width), and the 12 possible orientations of the robot.\n",
    "\n",
    "Ns = L * W * 12\n",
    "\n",
    "In this case, we evaluated using the given 8x8 grid (L=8, W=8)."
   ]
  },
  {
   "cell_type": "code",
   "execution_count": 9,
   "metadata": {},
   "outputs": [
    {
     "data": {
      "text/plain": [
       "768"
      ]
     },
     "execution_count": 9,
     "metadata": {},
     "output_type": "execute_result"
    }
   ],
   "source": [
    "statespace = StateSpace(L,W,Direction) # 8 x 8 x 12\n",
    "\n",
    "statespace.getNs()"
   ]
  },
  {
   "cell_type": "markdown",
   "metadata": {},
   "source": [
    "### 1(b). Create (in code) your action space A = {a}. What is the size of the action space NA?"
   ]
  },
  {
   "cell_type": "markdown",
   "metadata": {},
   "source": [
    "The action space class is defined at the top of the document, in the \"Classes\" section.\n",
    "\n",
    "The size of the action space is 7: three rotations each for forward and backward movement, and one extra action for staying put (no rotation possible)."
   ]
  },
  {
   "cell_type": "code",
   "execution_count": 10,
   "metadata": {},
   "outputs": [
    {
     "data": {
      "text/plain": [
       "7"
      ]
     },
     "execution_count": 10,
     "metadata": {},
     "output_type": "execute_result"
    }
   ],
   "source": [
    "actionspace = ActionSpace()\n",
    "actionspace.getNa()"
   ]
  },
  {
   "cell_type": "markdown",
   "metadata": {},
   "source": [
    "### 1(c). Write a function that returns the probability psa(s') given inputs pe, s, a, s'."
   ]
  },
  {
   "cell_type": "markdown",
   "metadata": {},
   "source": [
    "The function \"getPsa\" is tested below using an 8x8 grid, starting facing up at (2,2) and moving down and turning clockwise. There is a 20% error probability, so we expect to see 3 possible directions at the same location (one at direction 0, one at 1, and one at 2).\n",
    "\n",
    "If we look at the probability of our error-free output (2,1,1), we should see that it has 60% probability, while the other two possible error states are each 20%."
   ]
  },
  {
   "cell_type": "code",
   "execution_count": 11,
   "metadata": {},
   "outputs": [
    {
     "name": "stdout",
     "output_type": "stream",
     "text": [
      "{(2, 1, 0): 0.2, (2, 1, 1): 0.6, (2, 1, 2): 0.2}\n"
     ]
    },
    {
     "data": {
      "text/plain": [
       "0.6"
      ]
     },
     "execution_count": 11,
     "metadata": {},
     "output_type": "execute_result"
    }
   ],
   "source": [
    "pe = 0.2\n",
    "start_state = State(2, 2, 0)\n",
    "action_taken = Action(-1, 1)\n",
    "final_state_to_evaluate = State(2,1,1)\n",
    "\n",
    "statespace.getPsa(pe, start_state, action_taken, final_state_to_evaluate, verbose = True)"
   ]
  },
  {
   "cell_type": "markdown",
   "metadata": {},
   "source": [
    "### 1(d). Write a function that uses the above to return a next state s' given error probability pe, initial state s, and action a. Make sure the returned value s' follows the probability distribution specified by psa.\n"
   ]
  },
  {
   "cell_type": "markdown",
   "metadata": {},
   "source": [
    "The function \"getNextState\" uses the same helper function to calculate possible next states as getPsa() from question 1c. In this case, we evaluate 10000 random trials and see whether the distribution follows the distribution from 1c: {(2, 1, 0): 0.2, (2, 1, 1): 0.6, (2, 1, 2): 0.2}."
   ]
  },
  {
   "cell_type": "code",
   "execution_count": 12,
   "metadata": {},
   "outputs": [
    {
     "name": "stdout",
     "output_type": "stream",
     "text": [
      "Experimental probability of (2, 1, 0) is 0.2043\n",
      "Experimental probability of (2, 1, 1) is 0.5939\n",
      "Experimental probability of (2, 1, 2) is 0.2018\n"
     ]
    }
   ],
   "source": [
    "num_trials = 10000\n",
    "trials = [y for y in [statespace.getNextState(pe, start_state, action_taken).toTuple() for x in range(num_trials)]]\n",
    "for state_tuple in [(2,1,0), (2,1,1), (2,1,2)]:\n",
    "    probability = len([x for x in trials if x == state_tuple])/num_trials\n",
    "    print(\"Experimental probability of \"+str(state_tuple)+\" is \"+str(probability))"
   ]
  },
  {
   "cell_type": "markdown",
   "metadata": {},
   "source": [
    "# Problem 2"
   ]
  },
  {
   "cell_type": "markdown",
   "metadata": {},
   "source": [
    "### 2(a). Write a function that returns the reward R(s) given input s.\n",
    "The Reward class is defined at the top of the document, in the \"Classes\" section. The reward matrix is shown below visiually. The function is then shown evaluated at a specific state."
   ]
  },
  {
   "cell_type": "code",
   "execution_count": 13,
   "metadata": {},
   "outputs": [
    {
     "data": {
      "text/html": [
       "<div>\n",
       "<style scoped>\n",
       "    .dataframe tbody tr th:only-of-type {\n",
       "        vertical-align: middle;\n",
       "    }\n",
       "\n",
       "    .dataframe tbody tr th {\n",
       "        vertical-align: top;\n",
       "    }\n",
       "\n",
       "    .dataframe thead th {\n",
       "        text-align: right;\n",
       "    }\n",
       "</style>\n",
       "<table border=\"1\" class=\"dataframe\">\n",
       "  <thead>\n",
       "    <tr style=\"text-align: right;\">\n",
       "      <th></th>\n",
       "      <th>0</th>\n",
       "      <th>1</th>\n",
       "      <th>2</th>\n",
       "      <th>3</th>\n",
       "      <th>4</th>\n",
       "      <th>5</th>\n",
       "      <th>6</th>\n",
       "      <th>7</th>\n",
       "    </tr>\n",
       "  </thead>\n",
       "  <tbody>\n",
       "    <tr>\n",
       "      <th>0</th>\n",
       "      <td>-100</td>\n",
       "      <td>-100</td>\n",
       "      <td>-100</td>\n",
       "      <td>-100</td>\n",
       "      <td>-100</td>\n",
       "      <td>-100</td>\n",
       "      <td>-100</td>\n",
       "      <td>-100</td>\n",
       "    </tr>\n",
       "    <tr>\n",
       "      <th>1</th>\n",
       "      <td>-100</td>\n",
       "      <td>0</td>\n",
       "      <td>0</td>\n",
       "      <td>0</td>\n",
       "      <td>0</td>\n",
       "      <td>0</td>\n",
       "      <td>0</td>\n",
       "      <td>-100</td>\n",
       "    </tr>\n",
       "    <tr>\n",
       "      <th>2</th>\n",
       "      <td>-100</td>\n",
       "      <td>0</td>\n",
       "      <td>0</td>\n",
       "      <td>0</td>\n",
       "      <td>0</td>\n",
       "      <td>0</td>\n",
       "      <td>0</td>\n",
       "      <td>-100</td>\n",
       "    </tr>\n",
       "    <tr>\n",
       "      <th>3</th>\n",
       "      <td>-100</td>\n",
       "      <td>0</td>\n",
       "      <td>0</td>\n",
       "      <td>0</td>\n",
       "      <td>0</td>\n",
       "      <td>0</td>\n",
       "      <td>0</td>\n",
       "      <td>-100</td>\n",
       "    </tr>\n",
       "    <tr>\n",
       "      <th>4</th>\n",
       "      <td>-100</td>\n",
       "      <td>0</td>\n",
       "      <td>0</td>\n",
       "      <td>-10</td>\n",
       "      <td>0</td>\n",
       "      <td>0</td>\n",
       "      <td>0</td>\n",
       "      <td>-100</td>\n",
       "    </tr>\n",
       "    <tr>\n",
       "      <th>5</th>\n",
       "      <td>-100</td>\n",
       "      <td>0</td>\n",
       "      <td>0</td>\n",
       "      <td>-10</td>\n",
       "      <td>0</td>\n",
       "      <td>0</td>\n",
       "      <td>0</td>\n",
       "      <td>-100</td>\n",
       "    </tr>\n",
       "    <tr>\n",
       "      <th>6</th>\n",
       "      <td>-100</td>\n",
       "      <td>0</td>\n",
       "      <td>0</td>\n",
       "      <td>-10</td>\n",
       "      <td>0</td>\n",
       "      <td>1</td>\n",
       "      <td>0</td>\n",
       "      <td>-100</td>\n",
       "    </tr>\n",
       "    <tr>\n",
       "      <th>7</th>\n",
       "      <td>-100</td>\n",
       "      <td>-100</td>\n",
       "      <td>-100</td>\n",
       "      <td>-100</td>\n",
       "      <td>-100</td>\n",
       "      <td>-100</td>\n",
       "      <td>-100</td>\n",
       "      <td>-100</td>\n",
       "    </tr>\n",
       "  </tbody>\n",
       "</table>\n",
       "</div>"
      ],
      "text/plain": [
       "     0    1    2    3    4    5    6    7\n",
       "0 -100 -100 -100 -100 -100 -100 -100 -100\n",
       "1 -100    0    0    0    0    0    0 -100\n",
       "2 -100    0    0    0    0    0    0 -100\n",
       "3 -100    0    0    0    0    0    0 -100\n",
       "4 -100    0    0  -10    0    0    0 -100\n",
       "5 -100    0    0  -10    0    0    0 -100\n",
       "6 -100    0    0  -10    0    1    0 -100\n",
       "7 -100 -100 -100 -100 -100 -100 -100 -100"
      ]
     },
     "execution_count": 13,
     "metadata": {},
     "output_type": "execute_result"
    }
   ],
   "source": [
    "reward_obj = Reward(W, L, (5,6), lambda s: s.getX()==3 and s.getY()>=4)\n",
    "rewards = reward_obj.prettyPrint()\n",
    "\n",
    "rewards"
   ]
  },
  {
   "cell_type": "code",
   "execution_count": 14,
   "metadata": {},
   "outputs": [
    {
     "data": {
      "text/plain": [
       "1"
      ]
     },
     "execution_count": 14,
     "metadata": {},
     "output_type": "execute_result"
    }
   ],
   "source": [
    "test_state = State(5,6, 0)\n",
    "\n",
    "reward_obj.getReward(test_state)"
   ]
  },
  {
   "cell_type": "markdown",
   "metadata": {},
   "source": [
    "# Problem 3"
   ]
  },
  {
   "cell_type": "markdown",
   "metadata": {},
   "source": [
    "### 3(a). Create and populate a matrix/array that stores the action a = π0(s) prescribed by the initial policy π0 when indexed by state s."
   ]
  },
  {
   "cell_type": "code",
   "execution_count": 15,
   "metadata": {},
   "outputs": [],
   "source": [
    "def getBestAction(state, goal):\n",
    "    # Input: current state, goal coordinates represented as (x,y)\n",
    "    # Output: best action (represented by an Action object) to take based on initial policy\n",
    "    \n",
    "    cardinal_direction = state.getCardinalDirection()\n",
    "    \n",
    "    # Variables storing the final prescribed movement/rotation direction\n",
    "    movement_direction = 0\n",
    "    rotation_direction = 0\n",
    "        \n",
    "    # Facing up\n",
    "    if (cardinal_direction == 0):\n",
    "        if (state.getY() > goal[1]):\n",
    "            movement_direction = -1\n",
    "        elif (state.getY() < goal[1]):\n",
    "            movement_direction = 1\n",
    "        else:\n",
    "            if (state.getX() != goal[0]):\n",
    "                movement_direction = 1\n",
    "        if (state.getX() < goal[0]):\n",
    "            rotation_direction = 1\n",
    "        elif (state.getX() > goal[0]):\n",
    "            rotation_direction = -1\n",
    "            \n",
    "    # Facing Right      \n",
    "    elif (cardinal_direction == 1):\n",
    "        if (state.getX() > goal[0]):\n",
    "            movement_direction = -1\n",
    "        elif (state.getX() < goal[0]):\n",
    "            movement_direction = 1\n",
    "        else:\n",
    "            if (state.getY() != goal[1]):\n",
    "                movement_direction = 1\n",
    "        if (state.getY() < goal[1]):\n",
    "            rotation_direction = -1\n",
    "        elif (state.getY() > goal[1]):\n",
    "            rotation_direction = 1\n",
    "\n",
    "    # Facing Down\n",
    "    elif (cardinal_direction == 2):\n",
    "        if (state.getY() > goal[1]):\n",
    "            movement_direction = 1\n",
    "        elif (state.getY() < goal[1]):\n",
    "            movement_direction = -1\n",
    "        else:\n",
    "            if (state.getX() != goal[0]):\n",
    "                movement_direction = 1\n",
    "        if (state.getX() < goal[0]):\n",
    "            rotation_direction = -1\n",
    "        elif (state.getX() > goal[0]):\n",
    "            rotation_direction = 1\n",
    "       \n",
    "    # Facing Left\n",
    "    elif (cardinal_direction == 3):\n",
    "        if (state.getX() > goal[0]):\n",
    "            movement_direction = 1\n",
    "        elif (state.getX() < goal[0]):\n",
    "            movement_direction = -1\n",
    "        else:\n",
    "            if (state.getY() != goal[1]):\n",
    "                movement_direction = 1\n",
    "        if (state.getY() < goal[1]):\n",
    "            rotation_direction = 1\n",
    "        elif (state.getY() > goal[1]):\n",
    "            rotation_direction = -1\n",
    "    \n",
    "    return Action(movement_direction, rotation_direction)"
   ]
  },
  {
   "cell_type": "code",
   "execution_count": 16,
   "metadata": {},
   "outputs": [],
   "source": [
    "def getInitialPolicyMatrix(statespace, goal):\n",
    "    # Input: goal coordinates (x,y)\n",
    "    # Output: matrix, represented by a 3D array of (x,y direction);\n",
    "    #         each element has an action as prescribed by the initial policy\n",
    "    \n",
    "    global W, L, Direction\n",
    "    policy_matrix = [getBestAction(s, goal) for s in statespace.getStates()]\n",
    "    return policy_matrix\n",
    "#     policy_matrix = [[[getBestAction(State(x, y, direction), goal) for direction in range(Direction)] for y in range(L)] for x in range(W)]\n",
    "#     return policy_matrix\n",
    "\n",
    "def getNullPolicyMatrix(statespace):\n",
    "    return [None for s in statespace.getStates()]\n",
    "#     return [[[None for direction in range(Direction)] for y in range(L)] for x in range(W)]"
   ]
  },
  {
   "cell_type": "markdown",
   "metadata": {},
   "source": [
    "Here, we use the functions defined above and test the initial policy evaluated at coordinate (0,0) for each of the 12 possible directions:"
   ]
  },
  {
   "cell_type": "code",
   "execution_count": 17,
   "metadata": {},
   "outputs": [
    {
     "name": "stdout",
     "output_type": "stream",
     "text": [
      "loc: (0,0),\tdir: 0, \taction: (1, 1)\n",
      "loc: (0,0),\tdir: 1, \taction: (1, 1)\n",
      "loc: (0,0),\tdir: 2, \taction: (1, -1)\n",
      "loc: (0,0),\tdir: 3, \taction: (1, -1)\n",
      "loc: (0,0),\tdir: 4, \taction: (1, -1)\n",
      "loc: (0,0),\tdir: 5, \taction: (-1, -1)\n",
      "loc: (0,0),\tdir: 6, \taction: (-1, -1)\n",
      "loc: (0,0),\tdir: 7, \taction: (-1, -1)\n",
      "loc: (0,0),\tdir: 8, \taction: (-1, 1)\n",
      "loc: (0,0),\tdir: 9, \taction: (-1, 1)\n",
      "loc: (0,0),\tdir: 10, \taction: (-1, 1)\n",
      "loc: (0,0),\tdir: 11, \taction: (1, 1)\n"
     ]
    }
   ],
   "source": [
    "goal = reward_obj.getGoalCoords() # (5, 6)\n",
    "\n",
    "p0_policy_matrix = getInitialPolicyMatrix(statespace=statespace, goal=goal)\n",
    "\n",
    "targetX = 0\n",
    "targetY = 0\n",
    "for ind, a in enumerate(p0_policy_matrix):\n",
    "    associated_s = statespace.getStates()[ind]\n",
    "    if associated_s.getX() == targetX and associated_s.getY() == targetY:\n",
    "        print('loc: ({},{}),\\tdir: {}, \\taction: {}'.format(targetX, targetY, associated_s.getDirection(), a.toTuple()))\n",
    "# print([x.toTuple() for x in p0_policy_matrix[0][0]])"
   ]
  },
  {
   "cell_type": "markdown",
   "metadata": {},
   "source": [
    "### 3(b). Write a function to generate and plot a trajectory of a robot given policy matrix/array π, initial state s0, and error probability pe."
   ]
  },
  {
   "cell_type": "code",
   "execution_count": 18,
   "metadata": {},
   "outputs": [],
   "source": [
    "def getTrajectory(num_steps, state_space, policy_matrix, s0, pe):\n",
    "    # Inputs: # steps, state space, current policy matrix, start state, error probability\n",
    "    # Outputs: list of tuples (x, y, direction) in the order that the policy prescribes\n",
    "    \n",
    "    current_state = s0\n",
    "    trajectories = []\n",
    "    \n",
    "    for i in range(num_steps):\n",
    "        trajectories.append(current_state.toTuple())\n",
    "        chosen_action = policy_matrix[state_space.getIndex(current_state.toTuple())]\n",
    "#         chosen_action = policy_matrix[current_state.getX()][current_state.getY()][current_state.getDirection()]\n",
    "        current_state = state_space.getNextState(pe, current_state, chosen_action)\n",
    "    return trajectories"
   ]
  },
  {
   "cell_type": "code",
   "execution_count": 19,
   "metadata": {},
   "outputs": [
    {
     "name": "stdout",
     "output_type": "stream",
     "text": [
      "(1, 1, 0)\n",
      "(1, 2, 1)\n",
      "(1, 3, 2)\n",
      "(2, 3, 1)\n",
      "(2, 4, 2)\n",
      "(3, 4, 1)\n",
      "(3, 5, 2)\n",
      "(4, 5, 1)\n",
      "(4, 6, 2)\n",
      "(5, 6, 2)\n",
      "(5, 6, 2)\n",
      "(5, 6, 2)\n",
      "(5, 6, 2)\n",
      "(5, 6, 2)\n",
      "(5, 6, 2)\n",
      "(5, 6, 2)\n",
      "(5, 6, 2)\n",
      "(5, 6, 2)\n",
      "(5, 6, 2)\n",
      "(5, 6, 2)\n"
     ]
    }
   ],
   "source": [
    "initial_state = State(1,1,0)\n",
    "\n",
    "trajectories = getTrajectory(20, statespace, p0_policy_matrix, initial_state, 0)\n",
    "for state_tuple in trajectories:\n",
    "    print(state_tuple)"
   ]
  },
  {
   "cell_type": "code",
   "execution_count": 20,
   "metadata": {},
   "outputs": [],
   "source": [
    "def plotTrajectory(trajectories, rewards_np, border=0.5, grid_linewidth=0.5, colormap=None, saveto=None):\n",
    "    # Input: trajectories array [(x, y, dir)], rewards as a numpy array, and other visualization parameters\n",
    "    # Output: visualization of trajectory\n",
    "    \n",
    "    if colormap is None:\n",
    "        colormap = {-100: 'red', -10: 'orange', 0: 'w', 1: 'g'}\n",
    "    \n",
    "    fig, ax = plt.subplots()\n",
    "    \n",
    "    grid_width = rewards_np.shape[0]\n",
    "    grid_height = rewards_np.shape[1]\n",
    "    \n",
    "    total_width = grid_width + 2*border\n",
    "    total_height = grid_height + 2*border\n",
    "    \n",
    "    # Draw the grid lines:\n",
    "    for x in range(grid_width+1):\n",
    "        ax.axhline(y=x-border, xmin=border/total_width, \n",
    "                   xmax=(grid_width+border)/total_width, linewidth=grid_linewidth, color='black')\n",
    "    for y in range(grid_height+1):\n",
    "        ax.axvline(x=y-border, ymin=border/total_height, \n",
    "                   ymax=(grid_height+border)/total_width, linewidth=grid_linewidth, color='black')\n",
    "        \n",
    "    # Draw the reward squares:\n",
    "    for y in range(rewards.shape[1]):\n",
    "        for x in range(rewards.shape[0]):\n",
    "            ax.add_patch(Rectangle((x - border, y - border), 1, 1, alpha=0.7, color=colormap[rewards[x][y]]))\n",
    "            \n",
    "    # Draw the reward numbers in the bottom right corner:\n",
    "    for y in range(rewards.shape[1]):\n",
    "        for x in range(rewards.shape[0]):\n",
    "            ax.text(x - border+1, y - border, \"{} \".format(rewards[x][y]), va='bottom', ha='right')\n",
    "    \n",
    "    # Draw the trajectories    \n",
    "    for i, trajectory in enumerate(trajectories):\n",
    "        degree = State(trajectory[0], trajectory[1], trajectory[2]).getDirectionDegrees()\n",
    "        \n",
    "        bbox_props = dict(boxstyle=\"rarrow,pad=0.3\", fc=\"cyan\", ec=\"b\", lw=1, alpha=0.95)\n",
    "        ax.text(trajectory[0], trajectory[1], \"  {}  \".format(i), rotation=degree, bbox=bbox_props, va='center', ha='center')\n",
    "\n",
    "    ax.set_aspect('equal')\n",
    "    plt.xlim([-border*2, grid_width])\n",
    "    plt.ylim([-border*2, grid_height])\n",
    "    \n",
    "    if saveto is not None:\n",
    "        plt.savefig(saveto)\n",
    "    \n",
    "    plt.show()"
   ]
  },
  {
   "cell_type": "code",
   "execution_count": 21,
   "metadata": {
    "scrolled": false
   },
   "outputs": [
    {
     "data": {
      "image/png": "[encoded data removed]",
      "text/plain": [
       "<Figure size 1080x1080 with 1 Axes>"
      ]
     },
     "metadata": {
      "needs_background": "light"
     },
     "output_type": "display_data"
    }
   ],
   "source": [
    "plotTrajectory(trajectories, rewards.values, border=0.5, grid_linewidth=1, colormap=None, saveto='trajectory.png')"
   ]
  },
  {
   "cell_type": "markdown",
   "metadata": {},
   "source": [
    "### 3(c). Generate and plot a trajectory of a robot using policy π0 starting in state x = 1, y = 6, h = 6 (i.e. top left corner, pointing down). Assume pe = 0."
   ]
  },
  {
   "cell_type": "code",
   "execution_count": 22,
   "metadata": {},
   "outputs": [
    {
     "name": "stdout",
     "output_type": "stream",
     "text": [
      "(1, 6, 6)\n",
      "(1, 5, 5)\n",
      "(1, 6, 4)\n",
      "(2, 6, 4)\n",
      "(3, 6, 4)\n",
      "(4, 6, 4)\n",
      "(5, 6, 4)\n",
      "(5, 6, 4)\n",
      "(5, 6, 4)\n",
      "(5, 6, 4)\n",
      "(5, 6, 4)\n",
      "(5, 6, 4)\n",
      "(5, 6, 4)\n",
      "(5, 6, 4)\n",
      "(5, 6, 4)\n",
      "(5, 6, 4)\n",
      "(5, 6, 4)\n",
      "(5, 6, 4)\n",
      "(5, 6, 4)\n",
      "(5, 6, 4)\n"
     ]
    }
   ],
   "source": [
    "initial_state = State(1,6,6)\n",
    "\n",
    "trajectories = getTrajectory(20, statespace, p0_policy_matrix, initial_state, 0)\n",
    "for state_tuple in trajectories:\n",
    "    print(state_tuple)"
   ]
  },
  {
   "cell_type": "code",
   "execution_count": 23,
   "metadata": {
    "scrolled": false
   },
   "outputs": [
    {
     "data": {
      "image/png": "[encoded data removed]",
      "text/plain": [
       "<Figure size 1080x1080 with 1 Axes>"
      ]
     },
     "metadata": {
      "needs_background": "light"
     },
     "output_type": "display_data"
    }
   ],
   "source": [
    "plotTrajectory(trajectories, rewards.values, border=0.5, grid_linewidth=1, colormap=None, saveto='trajectory.png')"
   ]
  },
  {
   "cell_type": "markdown",
   "metadata": {},
   "source": [
    "### 3(d). Write a function to compute the policy evaluation of a policy π. That is, this function should return a matrix/array of values v = Vπ(s) when indexed by state s. The inputs will be a matrix/array storing π as above, along with discount factor λ."
   ]
  },
  {
   "cell_type": "code",
   "execution_count": 24,
   "metadata": {},
   "outputs": [],
   "source": [
    "# compute R, which has reward for each state in statespace\n",
    "R = np.array([rewards[t[0]][t[1]] for t in statespace.getStatesTuple()])\n",
    "\n",
    "def policyEval(pi, discount, pe=0):\n",
    "    # Input: policy matrix and discount factor\n",
    "    # Output: numpy array V, value (length = Ns, one value per state)\n",
    "    \n",
    "    global R, statespace\n",
    "\n",
    "    max_delta = 0.00001\n",
    "    delta = 1\n",
    "    \n",
    "    # convert policy matrix to probabilities P of ending up in each state s starting from s_prime (Ns x Ns)\n",
    "    P = statespace.getP(statespace, pi, pe)\n",
    "\n",
    "    V = np.zeros((statespace.getNs()))\n",
    "    \n",
    "    while (delta > max_delta):\n",
    "        V_new = R + np.dot(P, discount*V)\n",
    "        delta = np.sum(np.abs(V-V_new))\n",
    "        V = V_new\n",
    "    \n",
    "    return V\n",
    "\n",
    "v_k = policyEval(p0_policy_matrix, discount=0, pe=0.2)"
   ]
  },
  {
   "cell_type": "code",
   "execution_count": 25,
   "metadata": {},
   "outputs": [
    {
     "data": {
      "text/html": [
       "<div>\n",
       "<style scoped>\n",
       "    .dataframe tbody tr th:only-of-type {\n",
       "        vertical-align: middle;\n",
       "    }\n",
       "\n",
       "    .dataframe tbody tr th {\n",
       "        vertical-align: top;\n",
       "    }\n",
       "\n",
       "    .dataframe thead th {\n",
       "        text-align: right;\n",
       "    }\n",
       "</style>\n",
       "<table border=\"1\" class=\"dataframe\">\n",
       "  <thead>\n",
       "    <tr style=\"text-align: right;\">\n",
       "      <th></th>\n",
       "      <th>0</th>\n",
       "      <th>1</th>\n",
       "      <th>2</th>\n",
       "      <th>3</th>\n",
       "      <th>4</th>\n",
       "      <th>5</th>\n",
       "      <th>6</th>\n",
       "      <th>7</th>\n",
       "    </tr>\n",
       "  </thead>\n",
       "  <tbody>\n",
       "    <tr>\n",
       "      <th>0</th>\n",
       "      <td>-100.0</td>\n",
       "      <td>-100.0</td>\n",
       "      <td>-100.0</td>\n",
       "      <td>-100.0</td>\n",
       "      <td>-100.0</td>\n",
       "      <td>-100.0</td>\n",
       "      <td>-100.0</td>\n",
       "      <td>-100.0</td>\n",
       "    </tr>\n",
       "    <tr>\n",
       "      <th>1</th>\n",
       "      <td>-100.0</td>\n",
       "      <td>0.0</td>\n",
       "      <td>0.0</td>\n",
       "      <td>0.0</td>\n",
       "      <td>0.0</td>\n",
       "      <td>0.0</td>\n",
       "      <td>0.0</td>\n",
       "      <td>-100.0</td>\n",
       "    </tr>\n",
       "    <tr>\n",
       "      <th>2</th>\n",
       "      <td>-100.0</td>\n",
       "      <td>0.0</td>\n",
       "      <td>0.0</td>\n",
       "      <td>0.0</td>\n",
       "      <td>0.0</td>\n",
       "      <td>0.0</td>\n",
       "      <td>0.0</td>\n",
       "      <td>-100.0</td>\n",
       "    </tr>\n",
       "    <tr>\n",
       "      <th>3</th>\n",
       "      <td>-100.0</td>\n",
       "      <td>0.0</td>\n",
       "      <td>0.0</td>\n",
       "      <td>0.0</td>\n",
       "      <td>0.0</td>\n",
       "      <td>0.0</td>\n",
       "      <td>0.0</td>\n",
       "      <td>-100.0</td>\n",
       "    </tr>\n",
       "    <tr>\n",
       "      <th>4</th>\n",
       "      <td>-100.0</td>\n",
       "      <td>0.0</td>\n",
       "      <td>0.0</td>\n",
       "      <td>-10.0</td>\n",
       "      <td>0.0</td>\n",
       "      <td>0.0</td>\n",
       "      <td>0.0</td>\n",
       "      <td>-100.0</td>\n",
       "    </tr>\n",
       "    <tr>\n",
       "      <th>5</th>\n",
       "      <td>-100.0</td>\n",
       "      <td>0.0</td>\n",
       "      <td>0.0</td>\n",
       "      <td>-10.0</td>\n",
       "      <td>0.0</td>\n",
       "      <td>0.0</td>\n",
       "      <td>0.0</td>\n",
       "      <td>-100.0</td>\n",
       "    </tr>\n",
       "    <tr>\n",
       "      <th>6</th>\n",
       "      <td>-100.0</td>\n",
       "      <td>0.0</td>\n",
       "      <td>0.0</td>\n",
       "      <td>-10.0</td>\n",
       "      <td>0.0</td>\n",
       "      <td>1.0</td>\n",
       "      <td>0.0</td>\n",
       "      <td>-100.0</td>\n",
       "    </tr>\n",
       "    <tr>\n",
       "      <th>7</th>\n",
       "      <td>-100.0</td>\n",
       "      <td>-100.0</td>\n",
       "      <td>-100.0</td>\n",
       "      <td>-100.0</td>\n",
       "      <td>-100.0</td>\n",
       "      <td>-100.0</td>\n",
       "      <td>-100.0</td>\n",
       "      <td>-100.0</td>\n",
       "    </tr>\n",
       "  </tbody>\n",
       "</table>\n",
       "</div>"
      ],
      "text/plain": [
       "       0      1      2      3      4      5      6      7\n",
       "0 -100.0 -100.0 -100.0 -100.0 -100.0 -100.0 -100.0 -100.0\n",
       "1 -100.0    0.0    0.0    0.0    0.0    0.0    0.0 -100.0\n",
       "2 -100.0    0.0    0.0    0.0    0.0    0.0    0.0 -100.0\n",
       "3 -100.0    0.0    0.0    0.0    0.0    0.0    0.0 -100.0\n",
       "4 -100.0    0.0    0.0  -10.0    0.0    0.0    0.0 -100.0\n",
       "5 -100.0    0.0    0.0  -10.0    0.0    0.0    0.0 -100.0\n",
       "6 -100.0    0.0    0.0  -10.0    0.0    1.0    0.0 -100.0\n",
       "7 -100.0 -100.0 -100.0 -100.0 -100.0 -100.0 -100.0 -100.0"
      ]
     },
     "execution_count": 25,
     "metadata": {},
     "output_type": "execute_result"
    }
   ],
   "source": [
    "def visualizeValues(v, direction=0):\n",
    "    \n",
    "    # Convert v into a dictionary {(x,y): value}\n",
    "    values = {(state_tuple[0], state_tuple[1]):v[i] for i, state_tuple in enumerate(statespace.getStatesTuple()) if state_tuple[2] == direction}\n",
    "    \n",
    "    # Convert dictionary to numpy array\n",
    "    values_np = np.zeros((statespace.getL(),statespace.getW()))\n",
    "    for x_y in values:\n",
    "        values_np[x_y[0]][x_y[1]] = values[x_y]\n",
    "        \n",
    "    # Convert numpy array to dataframe for visualization\n",
    "    return pd.DataFrame([[round(values_np[x][y],1) for x in range(statespace.getL())] for y in range(statespace.getW())])\n",
    "\n",
    "visualizeValues(v_k, direction=1)"
   ]
  },
  {
   "cell_type": "markdown",
   "metadata": {},
   "source": [
    "Here, we tested the output using our initial policy matrix with no discount. We evaluated at each location with direction of 1 and error probability of 0.2, which is why we see many locations with -20 and -80 values."
   ]
  },
  {
   "cell_type": "markdown",
   "metadata": {},
   "source": [
    "### 3(e). What is the value of the trajectory in 3(c)? Use λ = 0.9."
   ]
  },
  {
   "cell_type": "code",
   "execution_count": 26,
   "metadata": {},
   "outputs": [
    {
     "data": {
      "text/html": [
       "<div>\n",
       "<style scoped>\n",
       "    .dataframe tbody tr th:only-of-type {\n",
       "        vertical-align: middle;\n",
       "    }\n",
       "\n",
       "    .dataframe tbody tr th {\n",
       "        vertical-align: top;\n",
       "    }\n",
       "\n",
       "    .dataframe thead th {\n",
       "        text-align: right;\n",
       "    }\n",
       "</style>\n",
       "<table border=\"1\" class=\"dataframe\">\n",
       "  <thead>\n",
       "    <tr style=\"text-align: right;\">\n",
       "      <th></th>\n",
       "      <th>0</th>\n",
       "      <th>1</th>\n",
       "      <th>2</th>\n",
       "      <th>3</th>\n",
       "      <th>4</th>\n",
       "      <th>5</th>\n",
       "      <th>6</th>\n",
       "      <th>7</th>\n",
       "    </tr>\n",
       "  </thead>\n",
       "  <tbody>\n",
       "    <tr>\n",
       "      <th>0</th>\n",
       "      <td>-340.8</td>\n",
       "      <td>-340.4</td>\n",
       "      <td>-340.0</td>\n",
       "      <td>-340.4</td>\n",
       "      <td>-340.0</td>\n",
       "      <td>-340.4</td>\n",
       "      <td>-340.0</td>\n",
       "      <td>-340.4</td>\n",
       "    </tr>\n",
       "    <tr>\n",
       "      <th>1</th>\n",
       "      <td>-96.5</td>\n",
       "      <td>3.9</td>\n",
       "      <td>4.3</td>\n",
       "      <td>3.9</td>\n",
       "      <td>4.3</td>\n",
       "      <td>3.9</td>\n",
       "      <td>4.3</td>\n",
       "      <td>-96.1</td>\n",
       "    </tr>\n",
       "    <tr>\n",
       "      <th>2</th>\n",
       "      <td>-96.1</td>\n",
       "      <td>4.3</td>\n",
       "      <td>4.8</td>\n",
       "      <td>4.3</td>\n",
       "      <td>4.8</td>\n",
       "      <td>4.3</td>\n",
       "      <td>4.8</td>\n",
       "      <td>-95.7</td>\n",
       "    </tr>\n",
       "    <tr>\n",
       "      <th>3</th>\n",
       "      <td>-102.3</td>\n",
       "      <td>4.8</td>\n",
       "      <td>5.3</td>\n",
       "      <td>4.8</td>\n",
       "      <td>5.3</td>\n",
       "      <td>4.8</td>\n",
       "      <td>5.3</td>\n",
       "      <td>-95.2</td>\n",
       "    </tr>\n",
       "    <tr>\n",
       "      <th>4</th>\n",
       "      <td>-109.1</td>\n",
       "      <td>-2.8</td>\n",
       "      <td>-3.1</td>\n",
       "      <td>-189.3</td>\n",
       "      <td>5.9</td>\n",
       "      <td>-179.3</td>\n",
       "      <td>5.9</td>\n",
       "      <td>-279.3</td>\n",
       "    </tr>\n",
       "    <tr>\n",
       "      <th>5</th>\n",
       "      <td>-108.5</td>\n",
       "      <td>-2.2</td>\n",
       "      <td>-2.4</td>\n",
       "      <td>-64.3</td>\n",
       "      <td>6.6</td>\n",
       "      <td>-54.3</td>\n",
       "      <td>6.6</td>\n",
       "      <td>-154.3</td>\n",
       "    </tr>\n",
       "    <tr>\n",
       "      <th>6</th>\n",
       "      <td>-101.4</td>\n",
       "      <td>-1.5</td>\n",
       "      <td>-1.7</td>\n",
       "      <td>-1.9</td>\n",
       "      <td>9.0</td>\n",
       "      <td>10.0</td>\n",
       "      <td>9.0</td>\n",
       "      <td>-91.9</td>\n",
       "    </tr>\n",
       "    <tr>\n",
       "      <th>7</th>\n",
       "      <td>-191.2</td>\n",
       "      <td>-191.4</td>\n",
       "      <td>-191.5</td>\n",
       "      <td>-182.7</td>\n",
       "      <td>-181.9</td>\n",
       "      <td>-184.1</td>\n",
       "      <td>-181.9</td>\n",
       "      <td>-184.1</td>\n",
       "    </tr>\n",
       "  </tbody>\n",
       "</table>\n",
       "</div>"
      ],
      "text/plain": [
       "       0      1      2      3      4      5      6      7\n",
       "0 -340.8 -340.4 -340.0 -340.4 -340.0 -340.4 -340.0 -340.4\n",
       "1  -96.5    3.9    4.3    3.9    4.3    3.9    4.3  -96.1\n",
       "2  -96.1    4.3    4.8    4.3    4.8    4.3    4.8  -95.7\n",
       "3 -102.3    4.8    5.3    4.8    5.3    4.8    5.3  -95.2\n",
       "4 -109.1   -2.8   -3.1 -189.3    5.9 -179.3    5.9 -279.3\n",
       "5 -108.5   -2.2   -2.4  -64.3    6.6  -54.3    6.6 -154.3\n",
       "6 -101.4   -1.5   -1.7   -1.9    9.0   10.0    9.0  -91.9\n",
       "7 -191.2 -191.4 -191.5 -182.7 -181.9 -184.1 -181.9 -184.1"
      ]
     },
     "execution_count": 26,
     "metadata": {},
     "output_type": "execute_result"
    }
   ],
   "source": [
    "v_k = policyEval(p0_policy_matrix, discount=0.9, pe=0)\n",
    "visualizeValues(v_k, direction=4)"
   ]
  },
  {
   "cell_type": "code",
   "execution_count": 27,
   "metadata": {},
   "outputs": [
    {
     "name": "stdout",
     "output_type": "stream",
     "text": [
      "(1, 6, 6)\n",
      "(1, 5, 5)\n",
      "(1, 6, 4)\n",
      "(2, 6, 4)\n",
      "(3, 6, 4)\n",
      "(4, 6, 4)\n",
      "(5, 6, 4)\n",
      "(5, 6, 4)\n",
      "(5, 6, 4)\n",
      "(5, 6, 4)\n"
     ]
    }
   ],
   "source": [
    "trajectories = getTrajectory(10, statespace, p0_policy_matrix, initial_state, 0)\n",
    "for state_tuple in trajectories:\n",
    "    print(state_tuple)"
   ]
  },
  {
   "cell_type": "code",
   "execution_count": 28,
   "metadata": {},
   "outputs": [],
   "source": [
    "def trajectoryValues(trajectories, V, discount, verbose=False):\n",
    "    trajectory_values = []\n",
    "    previous_value = None\n",
    "    previous_state = None\n",
    "    value_sum = 0\n",
    "    for i, chosen_state in enumerate(trajectories):\n",
    "        if previous_state is not None and chosen_state == previous_state:\n",
    "            break\n",
    "        \n",
    "        # get value of current state\n",
    "        chosen_state_index = statespace.getStatesTuple().index(chosen_state)\n",
    "        current_value = V[chosen_state_index]\n",
    "        value_sum += current_value * (discount**i)\n",
    "        if verbose:\n",
    "            print(\"Adding value \"+str(current_value)+\" at state \"+str(chosen_state))\n",
    "\n",
    "        # stop when value doesn't change\n",
    "        if previous_value is not None:\n",
    "            if current_value - previous_value == 0:\n",
    "                break\n",
    "\n",
    "        previous_value = current_value\n",
    "        trajectory_values.append(current_value)\n",
    "        \n",
    "        previous_state = chosen_state\n",
    "        \n",
    "    return trajectory_values, value_sum"
   ]
  },
  {
   "cell_type": "code",
   "execution_count": 29,
   "metadata": {},
   "outputs": [
    {
     "name": "stdout",
     "output_type": "stream",
     "text": [
      "Value of trajectory: 4.395869430334332\n"
     ]
    }
   ],
   "source": [
    "trajectory_values, value_sum = trajectoryValues(trajectories, v_k, discount=0.9)\n",
    "\n",
    "print('Value of trajectory: {}'.format(value_sum))"
   ]
  },
  {
   "cell_type": "markdown",
   "metadata": {},
   "source": [
    "###  3(f). Write a function that returns a matrix/array π giving the optimal policy given a one-step lookahead on value V."
   ]
  },
  {
   "cell_type": "code",
   "execution_count": 30,
   "metadata": {},
   "outputs": [],
   "source": [
    "def policyRefinement(v_pi, pe):\n",
    "    # Input: values for each state\n",
    "    # Output: next policy (3D array with an action at each element)\n",
    "    \n",
    "    # Create empty list for new policy\n",
    "    new_policy = getNullPolicyMatrix(statespace)\n",
    "    \n",
    "    # Iterate through each state and find optimal action\n",
    "    for s_index, s in enumerate(statespace.getStates()):\n",
    "        \n",
    "        best_action = None\n",
    "        best_value = None\n",
    "        \n",
    "        # iterate through each action\n",
    "        for action in actionspace.getActions():\n",
    "            action_value = 0\n",
    "            \n",
    "            possible_next_states = statespace.getPossibleNextStates(pe, s, action) # dictionary {state tuple: prob}\n",
    "            for possible_state in possible_next_states:\n",
    "                prob = possible_next_states[possible_state]\n",
    "                possible_state_index = statespace.getIndex(possible_state)\n",
    "                action_value += prob * v_pi[possible_state_index]\n",
    "\n",
    "            if (best_value is None or action_value >= best_value):\n",
    "                best_value = action_value\n",
    "                best_action = action\n",
    "                    \n",
    "        new_policy[s_index] = best_action\n",
    "    \n",
    "    return new_policy"
   ]
  },
  {
   "cell_type": "markdown",
   "metadata": {},
   "source": [
    "### 3(g). Combine your functions above in a new function that computes policy iteration on the system, returning optimal policy π∗ with optimal value V ∗."
   ]
  },
  {
   "cell_type": "code",
   "execution_count": 31,
   "metadata": {
    "scrolled": true
   },
   "outputs": [
    {
     "name": "stdout",
     "output_type": "stream",
     "text": [
      "Time taken: 2.1814827919006348\n"
     ]
    }
   ],
   "source": [
    "def policyIteration(p0_policy, discount, pe, verbose=False):\n",
    "    \n",
    "    current_policy_matrix = p0_policy\n",
    "    \n",
    "    iteration_no = 1\n",
    "    is_converged = False\n",
    "        \n",
    "    while not is_converged:\n",
    "        if verbose:\n",
    "            print(\"starting iteration \"+str(iteration_no))\n",
    "    \n",
    "        # given a value function V^pi\n",
    "        v = policyEval(current_policy_matrix, discount=discount, pe=pe)\n",
    "\n",
    "        next_policy_matrix = policyRefinement(v, pe)\n",
    "\n",
    "        if verbose:\n",
    "            print(\"Policy matrix BEFORE iteration \"+str(iteration_no))\n",
    "            print(\"-----\")\n",
    "            print(pd.DataFrame([[current_policy_matrix[statespace.getIndex(State(x, y, 0).toTuple())].toTuple() for x in range(8)] for y in range(8)]))\n",
    "            print(\"-----\")\n",
    "        \n",
    "            values = {(state_tuple[0], state_tuple[1]):v[i] for i, state_tuple in enumerate(statespace.getStatesTuple()) if state_tuple[2] == 0}\n",
    "            values_np = np.zeros((8,8))\n",
    "            for x_y in values:\n",
    "                values_np[x_y[0]][x_y[1]] = values[x_y]\n",
    "            print(\"Value matrix for dir=0 iteration \"+str(iteration_no))\n",
    "            print(\"-----\")\n",
    "            print(pd.DataFrame([[round(values_np[x][y],1) for x in range(8)] for y in range(8)]))\n",
    "            print(\"-----\")\n",
    "        \n",
    "            values = {(state_tuple[0], state_tuple[1]):v[i] for i, state_tuple in enumerate(statespace.getStatesTuple()) if state_tuple[2] == 1}\n",
    "            values_np = np.zeros((8,8))\n",
    "            for x_y in values:\n",
    "                values_np[x_y[0]][x_y[1]] = values[x_y]\n",
    "            print(\"Value matrix for dir=1 iteration \"+str(iteration_no))\n",
    "            print(\"-----\")\n",
    "            print(pd.DataFrame([[round(values_np[x][y],1) for x in range(8)] for y in range(8)]))\n",
    "            print(\"-----\")\n",
    "        \n",
    "            values = {(state_tuple[0], state_tuple[1]):v[i] for i, state_tuple in enumerate(statespace.getStatesTuple()) if state_tuple[2] == 11}\n",
    "            values_np = np.zeros((8,8))\n",
    "            for x_y in values:\n",
    "                values_np[x_y[0]][x_y[1]] = values[x_y]\n",
    "            print(\"Value matrix for dir=11 iteration \"+str(iteration_no))\n",
    "            print(\"-----\")\n",
    "            print(pd.DataFrame([[round(values_np[x][y],1) for x in range(8)] for y in range(8)]))\n",
    "            print(\"-----\")\n",
    "\n",
    "            print(\"Policy matrix AFTER iteration \"+str(iteration_no))\n",
    "            print(\"-----\")\n",
    "            print(pd.DataFrame([[next_policy_matrix[statespace.getIndex(State(x, y, 0).toTuple())].toTuple() for x in range(8)] for y in range(8)]))\n",
    "            print(\"-----\")\n",
    "        \n",
    "        is_converged_current = True\n",
    "        for i, action in enumerate(current_policy_matrix):\n",
    "            if (action.toTuple()!=next_policy_matrix[i].toTuple()):\n",
    "                is_converged_current = False\n",
    "        if (is_converged_current):\n",
    "            is_converged=True\n",
    "\n",
    "        current_policy_matrix = next_policy_matrix\n",
    "        \n",
    "        iteration_no += 1\n",
    "        \n",
    "        if (iteration_no ==20):\n",
    "            break\n",
    "        \n",
    "    V = policyEval(current_policy_matrix, discount=discount, pe=pe)\n",
    "    return current_policy_matrix, V\n",
    "\n",
    "start = time.time()\n",
    "optimal_policy_matrix, v_k = policyIteration(p0_policy_matrix, discount=0.9, pe=0)\n",
    "print(\"Time taken: \"+str(time.time()-start))"
   ]
  },
  {
   "cell_type": "code",
   "execution_count": 32,
   "metadata": {},
   "outputs": [
    {
     "data": {
      "image/png": "[encoded data removed]",
      "text/plain": [
       "<Figure size 1080x1080 with 1 Axes>"
      ]
     },
     "metadata": {
      "needs_background": "light"
     },
     "output_type": "display_data"
    }
   ],
   "source": [
    "trajectories2 = getTrajectory(20, statespace, optimal_policy_matrix, State(1,6,6), 0)\n",
    "plotTrajectory(trajectories2, rewards.values, border=0.5, grid_linewidth=1, colormap=None, saveto='trajectory.png')"
   ]
  },
  {
   "cell_type": "markdown",
   "metadata": {},
   "source": [
    "### 3(h). Run this function to recompute and plot the trajectory and value of the robot described in 3(c) under the optimal policy π∗."
   ]
  },
  {
   "cell_type": "code",
   "execution_count": 33,
   "metadata": {},
   "outputs": [
    {
     "name": "stdout",
     "output_type": "stream",
     "text": [
      "Value of trajectory: 38.35462766172605\n"
     ]
    }
   ],
   "source": [
    "trajectory_values, value_sum = trajectoryValues(trajectories2, v_k, discount=0.9, verbose=False)\n",
    "\n",
    "print('Value of trajectory: {}'.format(value_sum))"
   ]
  },
  {
   "cell_type": "markdown",
   "metadata": {},
   "source": [
    "### 3(i). How much compute time did it take to generate your results from 3(h)? You may want to use your programming language’s built-in runtime analysis tool."
   ]
  },
  {
   "cell_type": "markdown",
   "metadata": {},
   "source": [
    "It took us 4.27 seconds to generate the results for 3(h)"
   ]
  },
  {
   "cell_type": "markdown",
   "metadata": {},
   "source": [
    "\n",
    "# Problem 4"
   ]
  },
  {
   "cell_type": "markdown",
   "metadata": {},
   "source": [
    "### 4(a). Using an initial condition V (s) = 0 ∀s ∈ S, write a function (and any necessary subfunctions) to compute value iteration, again returning optimal policy π ∗ with optimal value V ∗."
   ]
  },
  {
   "cell_type": "code",
   "execution_count": 34,
   "metadata": {},
   "outputs": [],
   "source": [
    "def best_policy_given_v(v_pi, statespace, pe):\n",
    "    # Input: values for each state\n",
    "    # Output: next policy (3D array with an action at each element)\n",
    "    \n",
    "    # Create empty list for new policy\n",
    "    new_policy = getNullPolicyMatrix(statespace)\n",
    "    \n",
    "    # Iterate through each state and find optimal action\n",
    "    for s_index, s in enumerate(statespace.getStates()):\n",
    "        \n",
    "        best_action = None\n",
    "        best_value = None\n",
    "        \n",
    "        # iterate through each action\n",
    "        for action in actionspace.getActions():\n",
    "            action_value = 0\n",
    "            \n",
    "            possible_next_states = statespace.getPossibleNextStates(pe, s, action) # dictionary {state tuple: prob}\n",
    "            for possible_state in possible_next_states:\n",
    "                prob = possible_next_states[possible_state]\n",
    "                possible_state_index = statespace.getIndex(possible_state)\n",
    "                action_value += prob * v_pi[possible_state_index]\n",
    "                \n",
    "            if (best_value is None or action_value >= best_value):\n",
    "                best_value = action_value\n",
    "                best_action = action\n",
    "                    \n",
    "        new_policy[s_index] = best_action\n",
    "    return new_policy\n",
    "\n",
    "def valueRefinement(V, discount, pe, current_policy_matrix, is_problem_5=False):\n",
    "    global statespace\n",
    "        \n",
    "    R = np.array([rewards[t[0]][t[1]] for t in statespace.getStatesTuple()])\n",
    "    R2 = R.copy()\n",
    "    for i in range(12):\n",
    "        R2[statespace.getStatesTuple().index((5,6,i))] = 0\n",
    "        \n",
    "    # convert policy matrix to probabilities P of ending up in each state s starting from s_prime (Ns x Ns)\n",
    "    P = statespace.getP(statespace, current_policy_matrix, pe)\n",
    "    \n",
    "    # Update value\n",
    "    for s in tqdm(range(statespace.getNs())):\n",
    "        V[s] =  sum([P[s,s1] * ((R2[s] if statespace.getStatesTuple()[s][2]!=6 and is_problem_5 else R[s]) + discount*V[s1]) for s1 in range(statespace.getNs())])\n",
    "\n",
    "        \n",
    "    # return the optimal policy:\n",
    "    better_policy = best_policy_given_v(V, statespace, pe)\n",
    "    \n",
    "    return better_policy, V"
   ]
  },
  {
   "cell_type": "code",
   "execution_count": 35,
   "metadata": {
    "scrolled": true
   },
   "outputs": [],
   "source": [
    "def policiesMatch(policy1, policy2):\n",
    "    for ind, p1 in enumerate(policy1):\n",
    "        if p1.toTuple() != policy2[ind].toTuple():\n",
    "            return False\n",
    "    return True\n",
    "\n",
    "def valueIteration(p0_policy_matrix, discount, pe, statespace, verbose=False, is_problem_5=False):\n",
    "    V = np.zeros(statespace.getNs())\n",
    "    \n",
    "    v_converged = False\n",
    "    iteration_no = 0\n",
    "    current_policy_matrix = p0_policy_matrix\n",
    "    \n",
    "    while not v_converged:\n",
    "        if (verbose):\n",
    "            print(\"starting iteration \"+str(iteration_no))\n",
    "        \n",
    "            print(\"Value matrix BEFORE iteration \"+str(iteration_no))\n",
    "            print(\"-----\")\n",
    "            print(pd.DataFrame([[round(V[statespace.getIndex((x,y,0))],1) for x in range(8)] for y in range(8)]))\n",
    "            print(\"-----\")\n",
    "        \n",
    "        next_best_policy, V = valueRefinement(V, discount, pe, current_policy_matrix, is_problem_5)\n",
    "        \n",
    "        if (verbose):\n",
    "            print(\"Policy matrix AFTER iteration \"+str(iteration_no))\n",
    "            print(\"-----\")\n",
    "            print(pd.DataFrame([[next_best_policy[statespace.getIndex(State(x, y, 0).toTuple())].toTuple() for x in range(8)] for y in range(8)]))\n",
    "            print(\"-----\")\n",
    "\n",
    "        v_converged = policiesMatch(current_policy_matrix, next_best_policy)\n",
    "        current_policy_matrix = next_best_policy\n",
    "\n",
    "        iteration_no += 1\n",
    "        \n",
    "    return current_policy_matrix, V"
   ]
  },
  {
   "cell_type": "markdown",
   "metadata": {},
   "source": [
    "### 4(b). Run this function to recompute and plot the trajectory and value of the robot described in 3(c) under the optimal policy π ∗ . Compare these results with those you got from policy iteration in 3(h)."
   ]
  },
  {
   "cell_type": "code",
   "execution_count": 36,
   "metadata": {
    "scrolled": true
   },
   "outputs": [
    {
     "name": "stderr",
     "output_type": "stream",
     "text": [
      "100%|████████████████████████████████████████████████████████████████████████████████████████████████████████████████████████████████████████████████████| 768/768 [00:02<00:00, 282.80it/s]\n",
      "100%|████████████████████████████████████████████████████████████████████████████████████████████████████████████████████████████████████████████████████| 768/768 [00:02<00:00, 285.01it/s]\n",
      "100%|████████████████████████████████████████████████████████████████████████████████████████████████████████████████████████████████████████████████████| 768/768 [00:02<00:00, 283.64it/s]\n",
      "100%|████████████████████████████████████████████████████████████████████████████████████████████████████████████████████████████████████████████████████| 768/768 [00:02<00:00, 284.89it/s]\n",
      "100%|████████████████████████████████████████████████████████████████████████████████████████████████████████████████████████████████████████████████████| 768/768 [00:02<00:00, 282.75it/s]\n",
      "100%|████████████████████████████████████████████████████████████████████████████████████████████████████████████████████████████████████████████████████| 768/768 [00:02<00:00, 282.49it/s]\n",
      "100%|████████████████████████████████████████████████████████████████████████████████████████████████████████████████████████████████████████████████████| 768/768 [00:02<00:00, 283.01it/s]\n",
      "100%|████████████████████████████████████████████████████████████████████████████████████████████████████████████████████████████████████████████████████| 768/768 [00:02<00:00, 283.96it/s]\n",
      "100%|████████████████████████████████████████████████████████████████████████████████████████████████████████████████████████████████████████████████████| 768/768 [00:02<00:00, 283.64it/s]\n",
      "100%|████████████████████████████████████████████████████████████████████████████████████████████████████████████████████████████████████████████████████| 768/768 [00:02<00:00, 284.26it/s]\n",
      "100%|████████████████████████████████████████████████████████████████████████████████████████████████████████████████████████████████████████████████████| 768/768 [00:02<00:00, 284.80it/s]\n",
      "100%|████████████████████████████████████████████████████████████████████████████████████████████████████████████████████████████████████████████████████| 768/768 [00:02<00:00, 283.02it/s]\n",
      "100%|████████████████████████████████████████████████████████████████████████████████████████████████████████████████████████████████████████████████████| 768/768 [00:02<00:00, 284.42it/s]\n"
     ]
    },
    {
     "name": "stdout",
     "output_type": "stream",
     "text": [
      "Time taken: 38.990445613861084\n"
     ]
    }
   ],
   "source": [
    "start = time.time()\n",
    "optimal_policy_matrix, v_k = valueIteration(p0_policy_matrix, discount=0.9, pe=0, statespace=statespace)\n",
    "print(\"Time taken: \"+str(time.time()-start))"
   ]
  },
  {
   "cell_type": "code",
   "execution_count": 37,
   "metadata": {},
   "outputs": [
    {
     "data": {
      "image/png": "[encoded data removed]",
      "text/plain": [
       "<Figure size 1080x1080 with 1 Axes>"
      ]
     },
     "metadata": {
      "needs_background": "light"
     },
     "output_type": "display_data"
    }
   ],
   "source": [
    "trajectories2 = getTrajectory(20, statespace, optimal_policy_matrix, State(1,6,6), 0)\n",
    "plotTrajectory(trajectories2, rewards.values, border=0.5, grid_linewidth=1, colormap=None, saveto='trajectory.png')"
   ]
  },
  {
   "cell_type": "code",
   "execution_count": 38,
   "metadata": {},
   "outputs": [
    {
     "name": "stdout",
     "output_type": "stream",
     "text": [
      "Value of trajectory: 22.427312282498512\n"
     ]
    }
   ],
   "source": [
    "trajectory_values, value_sum = trajectoryValues(trajectories2, v_k, discount=0.9, verbose=False)\n",
    "\n",
    "print('Value of trajectory: {}'.format(value_sum))"
   ]
  },
  {
   "cell_type": "markdown",
   "metadata": {},
   "source": [
    "#### Comparing the results of policy iteration vs value iteration"
   ]
  },
  {
   "cell_type": "markdown",
   "metadata": {},
   "source": [
    "Policy iteration converged significantly faster (4.27 seconds) than value iteration (63.87 seconds). Additionally, the value of the trajectory that policy iteration calculates for its trajectory is higher (38.35) than the value that value iteration calculates (22.43). However, despite these differences, the actual trajectories calculated by the two methods are the same. The difference in the runtimes of the two algorithms is caused by value iteration taking more steps, each with a smaller gain--compared to policy iteration which takes fewer steps, each with a larger gain. Thus, value iteration can be stopped before convergence and have a fairly accurate trajectory, while policy iteration is likely to be very far off before convergence. Consequently, it can be useful to combine the two iteration methods."
   ]
  },
  {
   "cell_type": "markdown",
   "metadata": {},
   "source": [
    "### 4(c). How much compute time did it take to generate your results from 4(b)? Use the same timing method as in 3(i)."
   ]
  },
  {
   "cell_type": "markdown",
   "metadata": {},
   "source": [
    "It took 63.87 seconds to complete value iteration in 4(b). This is significantly longer than it took us to complete 3(h) (4.27 seconds). "
   ]
  },
  {
   "cell_type": "markdown",
   "metadata": {},
   "source": [
    "# 5 - Additional Scenarios"
   ]
  },
  {
   "cell_type": "markdown",
   "metadata": {},
   "source": [
    "### 5(a). Recompute the robot trajectory and value given initial conditions from 3(c) but with pe = 25%."
   ]
  },
  {
   "cell_type": "markdown",
   "metadata": {},
   "source": [
    "#### Using Policy Iteration"
   ]
  },
  {
   "cell_type": "code",
   "execution_count": 39,
   "metadata": {},
   "outputs": [
    {
     "name": "stdout",
     "output_type": "stream",
     "text": [
      "Time taken: 2.141493558883667\n"
     ]
    }
   ],
   "source": [
    "start = time.time()\n",
    "optimal_policy_matrix, V = policyIteration(p0_policy_matrix, discount=0.9, pe=0.25)\n",
    "print(\"Time taken: \"+str(time.time()-start))"
   ]
  },
  {
   "cell_type": "code",
   "execution_count": 40,
   "metadata": {},
   "outputs": [
    {
     "data": {
      "image/png": "[encoded data removed]",
      "text/plain": [
       "<Figure size 1080x1080 with 1 Axes>"
      ]
     },
     "metadata": {
      "needs_background": "light"
     },
     "output_type": "display_data"
    }
   ],
   "source": [
    "trajectories = getTrajectory(20, statespace, optimal_policy_matrix, State(1,6,6), 0)\n",
    "plotTrajectory(trajectories, rewards.values, border=0.5, grid_linewidth=1, colormap=None, saveto='trajectory.png')"
   ]
  },
  {
   "cell_type": "code",
   "execution_count": 41,
   "metadata": {},
   "outputs": [
    {
     "name": "stdout",
     "output_type": "stream",
     "text": [
      "Value of trajectory: 28.148267324347014\n"
     ]
    }
   ],
   "source": [
    "trajectory_values, value_sum = trajectoryValues(trajectories, V, discount=0.9, verbose=False)\n",
    "\n",
    "print('Value of trajectory: {}'.format(value_sum))"
   ]
  },
  {
   "cell_type": "markdown",
   "metadata": {},
   "source": [
    "#### Using Value Iteration "
   ]
  },
  {
   "cell_type": "code",
   "execution_count": 42,
   "metadata": {},
   "outputs": [
    {
     "name": "stderr",
     "output_type": "stream",
     "text": [
      "100%|████████████████████████████████████████████████████████████████████████████████████████████████████████████████████████████████████████████████████| 768/768 [00:02<00:00, 284.71it/s]\n",
      "100%|████████████████████████████████████████████████████████████████████████████████████████████████████████████████████████████████████████████████████| 768/768 [00:02<00:00, 282.55it/s]\n",
      "100%|████████████████████████████████████████████████████████████████████████████████████████████████████████████████████████████████████████████████████| 768/768 [00:02<00:00, 283.54it/s]\n",
      "100%|████████████████████████████████████████████████████████████████████████████████████████████████████████████████████████████████████████████████████| 768/768 [00:02<00:00, 283.01it/s]\n",
      "100%|████████████████████████████████████████████████████████████████████████████████████████████████████████████████████████████████████████████████████| 768/768 [00:02<00:00, 284.38it/s]\n",
      "100%|████████████████████████████████████████████████████████████████████████████████████████████████████████████████████████████████████████████████████| 768/768 [00:02<00:00, 284.27it/s]\n",
      "100%|████████████████████████████████████████████████████████████████████████████████████████████████████████████████████████████████████████████████████| 768/768 [00:02<00:00, 283.96it/s]\n",
      "100%|████████████████████████████████████████████████████████████████████████████████████████████████████████████████████████████████████████████████████| 768/768 [00:02<00:00, 285.22it/s]\n",
      "100%|████████████████████████████████████████████████████████████████████████████████████████████████████████████████████████████████████████████████████| 768/768 [00:02<00:00, 284.38it/s]\n",
      "100%|████████████████████████████████████████████████████████████████████████████████████████████████████████████████████████████████████████████████████| 768/768 [00:02<00:00, 283.26it/s]\n",
      "100%|████████████████████████████████████████████████████████████████████████████████████████████████████████████████████████████████████████████████████| 768/768 [00:02<00:00, 284.17it/s]\n",
      "100%|████████████████████████████████████████████████████████████████████████████████████████████████████████████████████████████████████████████████████| 768/768 [00:02<00:00, 283.63it/s]\n",
      "100%|████████████████████████████████████████████████████████████████████████████████████████████████████████████████████████████████████████████████████| 768/768 [00:02<00:00, 282.17it/s]\n",
      "100%|████████████████████████████████████████████████████████████████████████████████████████████████████████████████████████████████████████████████████| 768/768 [00:02<00:00, 284.26it/s]\n",
      "100%|████████████████████████████████████████████████████████████████████████████████████████████████████████████████████████████████████████████████████| 768/768 [00:02<00:00, 282.18it/s]\n",
      "100%|████████████████████████████████████████████████████████████████████████████████████████████████████████████████████████████████████████████████████| 768/768 [00:02<00:00, 283.85it/s]\n",
      "100%|████████████████████████████████████████████████████████████████████████████████████████████████████████████████████████████████████████████████████| 768/768 [00:02<00:00, 284.27it/s]\n",
      "100%|████████████████████████████████████████████████████████████████████████████████████████████████████████████████████████████████████████████████████| 768/768 [00:02<00:00, 282.86it/s]\n"
     ]
    },
    {
     "name": "stdout",
     "output_type": "stream",
     "text": [
      "Time taken: 53.959614992141724\n"
     ]
    }
   ],
   "source": [
    "start = time.time()\n",
    "optimal_policy_matrix, V = valueIteration(p0_policy_matrix, discount=0.9, pe=0.25, statespace=statespace)\n",
    "print(\"Time taken: \"+str(time.time()-start))"
   ]
  },
  {
   "cell_type": "code",
   "execution_count": 43,
   "metadata": {},
   "outputs": [
    {
     "data": {
      "image/png": "[encoded data removed]",
      "text/plain": [
       "<Figure size 1080x1080 with 1 Axes>"
      ]
     },
     "metadata": {
      "needs_background": "light"
     },
     "output_type": "display_data"
    }
   ],
   "source": [
    "trajectories = getTrajectory(20, statespace, optimal_policy_matrix, State(1,6,6), 0)\n",
    "plotTrajectory(trajectories, rewards.values, border=0.5, grid_linewidth=1, colormap=None, saveto='trajectory.png')"
   ]
  },
  {
   "cell_type": "code",
   "execution_count": 44,
   "metadata": {},
   "outputs": [
    {
     "name": "stdout",
     "output_type": "stream",
     "text": [
      "Value of trajectory: 22.86017134552592\n"
     ]
    }
   ],
   "source": [
    "trajectory_values, value_sum = trajectoryValues(trajectories, V, discount=0.9, verbose=False)\n",
    "\n",
    "print('Value of trajectory: {}'.format(value_sum))"
   ]
  },
  {
   "cell_type": "markdown",
   "metadata": {},
   "source": [
    "### 5(b). Assume the reward of +1 only applies when the robot is pointing straight down, e.g. h = 6 in the goal square; the reward is 0 otherwise. Recompute trajectories and values given initial conditions from 3(c) with pe ∈ {0, 25%}."
   ]
  },
  {
   "cell_type": "markdown",
   "metadata": {},
   "source": [
    "#### Using value iteration, pe = 0"
   ]
  },
  {
   "cell_type": "code",
   "execution_count": 45,
   "metadata": {},
   "outputs": [
    {
     "name": "stderr",
     "output_type": "stream",
     "text": [
      "100%|████████████████████████████████████████████████████████████████████████████████████████████████████████████████████████████████████████████████████| 768/768 [00:02<00:00, 283.33it/s]\n",
      "100%|████████████████████████████████████████████████████████████████████████████████████████████████████████████████████████████████████████████████████| 768/768 [00:02<00:00, 282.07it/s]\n",
      "100%|████████████████████████████████████████████████████████████████████████████████████████████████████████████████████████████████████████████████████| 768/768 [00:02<00:00, 283.17it/s]\n",
      "100%|████████████████████████████████████████████████████████████████████████████████████████████████████████████████████████████████████████████████████| 768/768 [00:02<00:00, 283.53it/s]\n",
      "100%|████████████████████████████████████████████████████████████████████████████████████████████████████████████████████████████████████████████████████| 768/768 [00:02<00:00, 284.47it/s]\n",
      "100%|████████████████████████████████████████████████████████████████████████████████████████████████████████████████████████████████████████████████████| 768/768 [00:02<00:00, 285.22it/s]\n",
      "100%|████████████████████████████████████████████████████████████████████████████████████████████████████████████████████████████████████████████████████| 768/768 [00:02<00:00, 285.76it/s]\n",
      "100%|████████████████████████████████████████████████████████████████████████████████████████████████████████████████████████████████████████████████████| 768/768 [00:02<00:00, 285.54it/s]\n",
      "100%|████████████████████████████████████████████████████████████████████████████████████████████████████████████████████████████████████████████████████| 768/768 [00:02<00:00, 285.32it/s]\n",
      "100%|████████████████████████████████████████████████████████████████████████████████████████████████████████████████████████████████████████████████████| 768/768 [00:02<00:00, 286.50it/s]\n",
      "100%|████████████████████████████████████████████████████████████████████████████████████████████████████████████████████████████████████████████████████| 768/768 [00:02<00:00, 285.33it/s]\n",
      "100%|████████████████████████████████████████████████████████████████████████████████████████████████████████████████████████████████████████████████████| 768/768 [00:02<00:00, 285.74it/s]\n",
      "100%|████████████████████████████████████████████████████████████████████████████████████████████████████████████████████████████████████████████████████| 768/768 [00:02<00:00, 286.72it/s]\n"
     ]
    },
    {
     "name": "stdout",
     "output_type": "stream",
     "text": [
      "Time taken: 38.849584102630615\n"
     ]
    }
   ],
   "source": [
    "start = time.time()\n",
    "optimal_policy_matrix, V = valueIteration(p0_policy_matrix, discount=0.9, pe=0, statespace=statespace, is_problem_5=True)\n",
    "print(\"Time taken: \"+str(time.time()-start))"
   ]
  },
  {
   "cell_type": "code",
   "execution_count": 46,
   "metadata": {},
   "outputs": [
    {
     "data": {
      "image/png": "[encoded data removed]",
      "text/plain": [
       "<Figure size 1080x1080 with 1 Axes>"
      ]
     },
     "metadata": {
      "needs_background": "light"
     },
     "output_type": "display_data"
    }
   ],
   "source": [
    "trajectories = getTrajectory(20, statespace, optimal_policy_matrix, State(1,6,6), 0)\n",
    "plotTrajectory(trajectories, rewards.values, border=0.5, grid_linewidth=1, colormap=None, saveto='trajectory.png')"
   ]
  },
  {
   "cell_type": "code",
   "execution_count": 47,
   "metadata": {},
   "outputs": [
    {
     "name": "stdout",
     "output_type": "stream",
     "text": [
      "Value of trajectory: 22.427312282498512\n"
     ]
    }
   ],
   "source": [
    "trajectory_values, value_sum = trajectoryValues(trajectories, V, discount=0.9, verbose=False)\n",
    "\n",
    "print('Value of trajectory: {}'.format(value_sum))"
   ]
  },
  {
   "cell_type": "markdown",
   "metadata": {},
   "source": [
    "#### Using value iteraton, pe = 0.25"
   ]
  },
  {
   "cell_type": "code",
   "execution_count": 49,
   "metadata": {},
   "outputs": [
    {
     "name": "stderr",
     "output_type": "stream",
     "text": [
      "100%|████████████████████████████████████████████████████████████████████████████████████████████████████████████████████████████████████████████████████| 768/768 [00:02<00:00, 286.77it/s]\n",
      "100%|████████████████████████████████████████████████████████████████████████████████████████████████████████████████████████████████████████████████████| 768/768 [00:02<00:00, 283.85it/s]\n",
      "100%|████████████████████████████████████████████████████████████████████████████████████████████████████████████████████████████████████████████████████| 768/768 [00:02<00:00, 285.42it/s]\n",
      "100%|████████████████████████████████████████████████████████████████████████████████████████████████████████████████████████████████████████████████████| 768/768 [00:02<00:00, 285.12it/s]\n",
      "100%|████████████████████████████████████████████████████████████████████████████████████████████████████████████████████████████████████████████████████| 768/768 [00:02<00:00, 286.69it/s]\n",
      "100%|████████████████████████████████████████████████████████████████████████████████████████████████████████████████████████████████████████████████████| 768/768 [00:02<00:00, 286.39it/s]\n",
      "100%|████████████████████████████████████████████████████████████████████████████████████████████████████████████████████████████████████████████████████| 768/768 [00:02<00:00, 288.63it/s]\n",
      "100%|████████████████████████████████████████████████████████████████████████████████████████████████████████████████████████████████████████████████████| 768/768 [00:02<00:00, 287.82it/s]\n",
      "100%|████████████████████████████████████████████████████████████████████████████████████████████████████████████████████████████████████████████████████| 768/768 [00:02<00:00, 288.43it/s]\n",
      "100%|████████████████████████████████████████████████████████████████████████████████████████████████████████████████████████████████████████████████████| 768/768 [00:02<00:00, 287.40it/s]\n",
      "100%|████████████████████████████████████████████████████████████████████████████████████████████████████████████████████████████████████████████████████| 768/768 [00:02<00:00, 287.25it/s]\n",
      "100%|████████████████████████████████████████████████████████████████████████████████████████████████████████████████████████████████████████████████████| 768/768 [00:02<00:00, 288.11it/s]\n",
      "100%|████████████████████████████████████████████████████████████████████████████████████████████████████████████████████████████████████████████████████| 768/768 [00:02<00:00, 288.87it/s]\n",
      "100%|████████████████████████████████████████████████████████████████████████████████████████████████████████████████████████████████████████████████████| 768/768 [00:02<00:00, 288.11it/s]\n",
      "100%|████████████████████████████████████████████████████████████████████████████████████████████████████████████████████████████████████████████████████| 768/768 [00:02<00:00, 286.93it/s]\n",
      "100%|████████████████████████████████████████████████████████████████████████████████████████████████████████████████████████████████████████████████████| 768/768 [00:02<00:00, 287.04it/s]\n",
      "100%|████████████████████████████████████████████████████████████████████████████████████████████████████████████████████████████████████████████████████| 768/768 [00:02<00:00, 287.06it/s]\n",
      "100%|████████████████████████████████████████████████████████████████████████████████████████████████████████████████████████████████████████████████████| 768/768 [00:02<00:00, 288.01it/s]\n",
      "100%|████████████████████████████████████████████████████████████████████████████████████████████████████████████████████████████████████████████████████| 768/768 [00:02<00:00, 287.57it/s]\n",
      "100%|████████████████████████████████████████████████████████████████████████████████████████████████████████████████████████████████████████████████████| 768/768 [00:02<00:00, 287.29it/s]\n",
      "100%|████████████████████████████████████████████████████████████████████████████████████████████████████████████████████████████████████████████████████| 768/768 [00:02<00:00, 287.09it/s]\n",
      "100%|████████████████████████████████████████████████████████████████████████████████████████████████████████████████████████████████████████████████████| 768/768 [00:02<00:00, 285.85it/s]\n",
      "100%|████████████████████████████████████████████████████████████████████████████████████████████████████████████████████████████████████████████████████| 768/768 [00:02<00:00, 286.71it/s]\n",
      "100%|████████████████████████████████████████████████████████████████████████████████████████████████████████████████████████████████████████████████████| 768/768 [00:02<00:00, 286.07it/s]\n",
      "100%|████████████████████████████████████████████████████████████████████████████████████████████████████████████████████████████████████████████████████| 768/768 [00:02<00:00, 286.04it/s]\n",
      "100%|████████████████████████████████████████████████████████████████████████████████████████████████████████████████████████████████████████████████████| 768/768 [00:02<00:00, 284.54it/s]\n",
      "100%|████████████████████████████████████████████████████████████████████████████████████████████████████████████████████████████████████████████████████| 768/768 [00:02<00:00, 286.93it/s]\n"
     ]
    },
    {
     "name": "stdout",
     "output_type": "stream",
     "text": [
      "Time taken: 80.11695051193237\n"
     ]
    }
   ],
   "source": [
    "start = time.time()\n",
    "optimal_policy_matrix, V = valueIteration(p0_policy_matrix, discount=0.9, pe=0.25, statespace=statespace, is_problem_5=True)\n",
    "print(\"Time taken: \"+str(time.time()-start))"
   ]
  },
  {
   "cell_type": "code",
   "execution_count": 50,
   "metadata": {},
   "outputs": [
    {
     "data": {
      "image/png": "[encoded data removed]",
      "text/plain": [
       "<Figure size 1080x1080 with 1 Axes>"
      ]
     },
     "metadata": {
      "needs_background": "light"
     },
     "output_type": "display_data"
    }
   ],
   "source": [
    "trajectories = getTrajectory(20, statespace, optimal_policy_matrix, State(1,6,6), 0)\n",
    "plotTrajectory(trajectories, rewards.values, border=0.5, grid_linewidth=1, colormap=None, saveto='trajectory.png')"
   ]
  },
  {
   "cell_type": "code",
   "execution_count": 51,
   "metadata": {},
   "outputs": [
    {
     "name": "stdout",
     "output_type": "stream",
     "text": [
      "Value of trajectory: 7.393915027646906\n"
     ]
    }
   ],
   "source": [
    "trajectory_values, value_sum = trajectoryValues(trajectories, V, discount=0.9, verbose=False)\n",
    "\n",
    "print('Value of trajectory: {}'.format(value_sum))"
   ]
  },
  {
   "cell_type": "markdown",
   "metadata": {},
   "source": [
    "### 5(c). Qualitatively describe some conclusions from these scenarios."
   ]
  },
  {
   "cell_type": "markdown",
   "metadata": {},
   "source": [
    "For 5a, we saw that when we increased our error probability to 0.25 in each direction, we saw that it took a similar path compared to problem 4, except that we saw a much cleaner path that was much more focused than before. This makes sense because, due to the error probability, our robot wants to be in a state that will still get closer to the goal despite the likely errors. For example, facing directly up is the safest way to go up because even if we have an error to the right or left directions, we will still end up going up. In comparison, if we were at direction=1 and the error moved us clockwise, we would end up going right instead of going up (taking us further from the goal).\n",
    "\n",
    "For 5b, we saw that when we gave a different reward criteria, we were able to choose a different path that still got to the optimal point in the same amount of time. This shows how by adjusting our hyperparameters and rewards, we are able to fine tune the specific path the robot takes to get to the goal (just like we were able to do by modifying the discount factor and error probability).\n",
    "\n",
    "Policy iteration converged significantly faster (4.27 seconds) than value iteration (63.87 seconds). Additionally, the value of the trajectory that policy iteration calculates for its trajectory is higher (38.35) than the value that value iteration calculates (22.43). However, despite these differences, the actual trajectories calculated by the two methods are the same. The difference in the runtimes of the two algorithms is caused by value iteration taking more steps, each with a smaller gain--compared to policy iteration which takes fewer steps, each with a larger gain. Thus, value iteration can be stopped before convergence and have a fairly accurate trajectory, while policy iteration is likely to be very far off before convergence. Consequently, it can be useful to combine the two iteration methods."
   ]
  },
  {
   "cell_type": "code",
   "execution_count": null,
   "metadata": {},
   "outputs": [],
   "source": []
  }
 ],
 "metadata": {
  "kernelspec": {
   "display_name": "Python 3",
   "language": "python",
   "name": "python3"
  },
  "language_info": {
   "codemirror_mode": {
    "name": "ipython",
    "version": 3
   },
   "file_extension": ".py",
   "mimetype": "text/x-python",
   "name": "python",
   "nbconvert_exporter": "python",
   "pygments_lexer": "ipython3",
   "version": "3.7.3"
  }
 },
 "nbformat": 4,
 "nbformat_minor": 2
}
